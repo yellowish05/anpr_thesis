{
 "cells": [
  {
   "cell_type": "code",
   "execution_count": 1,
   "metadata": {
    "id": "LeiYfhNn3juF"
   },
   "outputs": [],
   "source": [
    "#import libraries\n",
    "import numpy as np\n",
    "import matplotlib.pyplot as plt\n",
    "import os\n",
    "import cv2\n",
    "import random\n",
    "import pickle\n",
    "from tensorflow.keras.utils import to_categorical"
   ]
  },
  {
   "cell_type": "code",
   "execution_count": 2,
   "metadata": {
    "id": "r7RGD9dc3juL"
   },
   "outputs": [],
   "source": [
    "#data path\n",
    "DATADIR = \"C:/Users/yelti/PycharmProjects/Tensorflow-TensorRT-master/Tensorflow-TensorRT-master/data-complete/train\" #train dataset folder\n",
    "DATADIR2 = \"C:/Users/yelti/PycharmProjects/Tensorflow-TensorRT-master/Tensorflow-TensorRT-master/data-complete/test\" #test dataset folder\n",
    "\n",
    "#classes\n",
    "CATEGORIES = [\"0\",\"1\",\"2\",\"3\",\"4\",\"5\",\"6\",\"7\",\"8\",\"9\",\"A\",\"B\",\"C\",\"D\",\"E\",\"F\",\"G\",\"H\",\"I\",\"J\",\"K\",\"L\",\"M\",\"N\",\"O\",\"P\",\"Q\",\"R\",\"S\",\"T\",\"U\",\"V\",\"W\",\"X\",\"Y\",\"Z\"] #total of 36 classes [0-9][A-Z]\n",
    "IMG_SIZE = 28 "
   ]
  },
  {
   "cell_type": "code",
   "execution_count": 3,
   "metadata": {
    "id": "4UyNadNK3juM"
   },
   "outputs": [],
   "source": [
    "#for accessing each folder\n",
    "\n",
    "#training data\n",
    "training_data = []\n",
    "def create_training_data():\n",
    "    for category in CATEGORIES:\n",
    "        path = os.path.join(DATADIR, category) #path to categories\n",
    "        class_num = CATEGORIES.index(category)\n",
    "        for img in os.listdir(path):\n",
    "            try: \n",
    "                img_array = cv2.imread(os.path.join(path,img), cv2.IMREAD_GRAYSCALE) #convert images to greyscale                \n",
    "                new_array = cv2.resize(img_array, (IMG_SIZE, IMG_SIZE)) #resizing images to 50x50\n",
    "                training_data.append([new_array, class_num])\n",
    "            except Exception as e:\n",
    "                pass\n",
    "create_training_data()\n",
    "\n",
    "#testing data\n",
    "testing_data = []\n",
    "def create_testing_data():\n",
    "    for category in CATEGORIES:\n",
    "        path = os.path.join(DATADIR2, category) #path to categories\n",
    "        class_num = CATEGORIES.index(category)\n",
    "        for img in os.listdir(path):\n",
    "            try: \n",
    "                img_array = cv2.imread(os.path.join(path,img), cv2.IMREAD_GRAYSCALE)\n",
    "                new_array = cv2.resize(img_array, (IMG_SIZE, IMG_SIZE))\n",
    "                testing_data.append([new_array, class_num])\n",
    "            except Exception as e:\n",
    "                pass\n",
    "create_testing_data()"
   ]
  },
  {
   "cell_type": "code",
   "execution_count": 4,
   "metadata": {
    "id": "ecp_ZXJJ3juO"
   },
   "outputs": [],
   "source": [
    "#labels\n",
    "train_x = []\n",
    "train_y = []\n",
    "\n",
    "test_x = []\n",
    "test_y = []"
   ]
  },
  {
   "cell_type": "code",
   "execution_count": 5,
   "metadata": {
    "id": "f5x9xxAZ3juO"
   },
   "outputs": [],
   "source": [
    "for features, label in training_data: \n",
    "    train_x.append(features)\n",
    "    train_y.append(label)\n",
    "\n",
    "#convert image into 28x28x1 before feeding to network\n",
    "train_x = np.array(train_x).reshape(-1, IMG_SIZE, IMG_SIZE, 1) #1 is grayscale\n",
    "train_y = np.array(train_y).reshape(-1)\n",
    "\n",
    "\n",
    "for features, label in testing_data:\n",
    "    test_x.append(features)\n",
    "    test_y.append(label)\n",
    "test_x = np.array(test_x).reshape(-1, IMG_SIZE, IMG_SIZE, 1) #1 is grayscale\n",
    "test_y = np.array(test_y).reshape(-1)\n"
   ]
  },
  {
   "cell_type": "code",
   "execution_count": 6,
   "metadata": {
    "id": "7q5hpqzk3juP"
   },
   "outputs": [],
   "source": [
    "#pickle is used, so that we can save the data and we dont have to rerun it everytym\n",
    "\n",
    "# pickle_out = open(\"train_x.pickle\",\"wb\")\n",
    "# pickle.dump(train_x, pickle_out)\n",
    "# pickle_out.close()\n",
    "\n",
    "# pickle_out = open(\"train_y.pickle\",\"wb\")\n",
    "# pickle.dump(train_y, pickle_out)\n",
    "# pickle_out.close()\n",
    "\n",
    "# #test\n",
    "# pickle_out = open(\"test_x.pickle\",\"wb\")\n",
    "# pickle.dump(test_x, pickle_out)\n",
    "# pickle_out.close()\n",
    "\n",
    "# pickle_out = open(\"test_y.pickle\",\"wb\")\n",
    "# pickle.dump(test_y, pickle_out)\n",
    "# pickle_out.close()"
   ]
  },
  {
   "cell_type": "code",
   "execution_count": 7,
   "metadata": {
    "id": "8rqAPSFs3juQ"
   },
   "outputs": [],
   "source": [
    "# pickle_in = open(\"train_x.pickle\",\"rb\")\n",
    "# train_x = pickle.load(pickle_in)\n",
    "\n",
    "# pickle_in = open(\"train_y.pickle\",\"rb\")\n",
    "# train_y = pickle.load(pickle_in)\n",
    "\n",
    "# #test\n",
    "\n",
    "# pickle_in = open(\"test_x.pickle\",\"rb\")\n",
    "# test_x = pickle.load(pickle_in)\n",
    "\n",
    "# pickle_in = open(\"test_y.pickle\",\"rb\")\n",
    "# test_y = pickle.load(pickle_in)"
   ]
  },
  {
   "cell_type": "code",
   "execution_count": 8,
   "metadata": {
    "id": "Vl2CUXQX3juR",
    "outputId": "dffe3b09-addc-47fb-b547-9f268128b599"
   },
   "outputs": [
    {
     "name": "stdout",
     "output_type": "stream",
     "text": [
      "Training data shape :  (1111, 28, 28, 1) (1111,)\n",
      "Testing data shape :  (673, 28, 28, 1) (673,)\n"
     ]
    }
   ],
   "source": [
    "#for training data there are 1000+ images dimensions are 28x28x1\n",
    "#for testing data there are 600+ images dimensions are 28x28x1\n",
    "\n",
    "print('Training data shape : ', train_x.shape, train_y.shape)\n",
    "print('Testing data shape : ', test_x.shape, test_y.shape)\n"
   ]
  },
  {
   "cell_type": "code",
   "execution_count": 9,
   "metadata": {
    "id": "KFZWoF9c3juT",
    "outputId": "8357c222-a64f-4dc7-e5cd-3eac143664d3"
   },
   "outputs": [
    {
     "name": "stdout",
     "output_type": "stream",
     "text": [
      "Total number of outputs :  36\n",
      "Output classes :  [ 0  1  2  3  4  5  6  7  8  9 10 11 12 13 14 15 16 17 18 19 20 21 22 23\n",
      " 24 25 26 27 28 29 30 31 32 33 34 35]\n"
     ]
    }
   ],
   "source": [
    "# Find the unique numbers from the train labels\n",
    "\n",
    "classes = np.unique(train_y)\n",
    "nClasses = len(classes)\n",
    "print('Total number of outputs : ', nClasses)\n",
    "print('Output classes : ', classes)"
   ]
  },
  {
   "cell_type": "code",
   "execution_count": 10,
   "metadata": {
    "id": "wzPlms0B3juU",
    "outputId": "bfa60e39-8772-49d2-db56-467378069897"
   },
   "outputs": [],
   "source": [
    "# plt.figure(figsize=[5,5])\n",
    "\n",
    "# # Display the first image in training data\n",
    "# plt.subplot(121)\n",
    "# plt.imshow(train_x[1,:,:], cmap='gray')\n",
    "# plt.title(\"Ground Truth (training): {}\".format(train_y[1]))\n",
    "\n",
    "# # Display the first image in testing data\n",
    "# plt.subplot(122)\n",
    "# plt.imshow(test_x[1,:,:], cmap='gray')\n",
    "# plt.title(\"Ground Truth (testing): {}\".format(test_y[1]))"
   ]
  },
  {
   "cell_type": "code",
   "execution_count": 11,
   "metadata": {
    "id": "RrBLw2hB3juV"
   },
   "outputs": [],
   "source": [
    "#3. DATA PREPROCESSING --------------------"
   ]
  },
  {
   "cell_type": "code",
   "execution_count": 12,
   "metadata": {
    "id": "N0u7QrBY3juW"
   },
   "outputs": [],
   "source": [
    "#convert int8 -> float32 format\n",
    "train_x = train_x.astype('float32')\n",
    "test_x = test_x.astype('float32')\n",
    "\n",
    "train_x = train_x / 255.\n",
    "test_x = test_x / 255."
   ]
  },
  {
   "cell_type": "code",
   "execution_count": 13,
   "metadata": {
    "id": "Jq7rrgCs3juW",
    "outputId": "0eb6b061-4d83-427e-8523-6bfb6c8a30a0"
   },
   "outputs": [
    {
     "name": "stdout",
     "output_type": "stream",
     "text": [
      "Original label: 0\n",
      "After conversion to one-hot: [1. 0. 0. 0. 0. 0. 0. 0. 0. 0. 0. 0. 0. 0. 0. 0. 0. 0. 0. 0. 0. 0. 0. 0.\n",
      " 0. 0. 0. 0. 0. 0. 0. 0. 0. 0. 0. 0.]\n"
     ]
    }
   ],
   "source": [
    "# Change the labels from categorical -> one-hot encoding\n",
    "train_y_one_hot = to_categorical(train_y)\n",
    "test_y_one_hot = to_categorical(test_y)\n",
    "\n",
    "# Display the change for category label using one-hot encoding\n",
    "print('Original label:', train_y[0])\n",
    "print('After conversion to one-hot:', train_y_one_hot[0])\n",
    "\n"
   ]
  },
  {
   "cell_type": "code",
   "execution_count": 14,
   "metadata": {
    "id": "08hWVT173juX"
   },
   "outputs": [],
   "source": [
    "#split dataset into training and validation set\n",
    "#20% of the training and validation dataset are not being trained to avoid overfitting; will help boost the test performance\n",
    "\n",
    "from sklearn.model_selection import train_test_split\n",
    "train_x,valid_x,train_label,valid_label = train_test_split(train_x, train_y_one_hot, train_size=0.2, random_state=13)"
   ]
  },
  {
   "cell_type": "code",
   "execution_count": 15,
   "metadata": {
    "id": "9r9RkeG03juY"
   },
   "outputs": [
    {
     "data": {
      "text/plain": [
       "((222, 28, 28, 1), (889, 28, 28, 1), (222, 36), (889, 36))"
      ]
     },
     "execution_count": 15,
     "metadata": {},
     "output_type": "execute_result"
    }
   ],
   "source": [
    "#checking the shape of training and validation set after splitting dataset\n",
    "train_x.shape, valid_x.shape, train_label.shape, valid_label.shape\n",
    "\n",
    "#222- TRAINING\n",
    "#889 - VALIDATION\n",
    "# = 1111"
   ]
  },
  {
   "cell_type": "code",
   "execution_count": 16,
   "metadata": {
    "id": "lJS79NUZ3juY"
   },
   "outputs": [],
   "source": [
    "#4. THE NETWORK ------------------\n",
    "# 3 convolutional layers: 32-3x3 filters;64-3 x 3 filters;128-3 x 3 filters\n",
    "# architecture model: INPUT -> (1) 32-3x3 convolution filter -> max pooling 2x2 -> (2) 64-3x3 convolution filter \n",
    "# -> max pooling 2x2 -> (3) 128-3x3 convolution filter -> max pooling -> dropout -> flatten -> dense layer -> OUTPUT"
   ]
  },
  {
   "cell_type": "code",
   "execution_count": 17,
   "metadata": {
    "id": "aGtRcfa83juZ"
   },
   "outputs": [],
   "source": [
    "#MODEL THE DATA\n",
    "\n",
    "import keras\n",
    "from tensorflow import keras\n",
    "from keras.models import Sequential,Input,Model\n",
    "from keras.layers import Dense, Dropout, Flatten\n",
    "from keras.layers import Conv2D, MaxPooling2D\n",
    "from tensorflow.keras.layers import BatchNormalization\n",
    "from keras.layers.advanced_activations import LeakyReLU"
   ]
  },
  {
   "cell_type": "code",
   "execution_count": 18,
   "metadata": {},
   "outputs": [],
   "source": [
    "batch_size = 64\n",
    "epochs = 50\n",
    "num_classes = 36\n",
    "\n",
    "#Batch size = number of training examples utilized in one iteration.\n",
    "#no of epochs: As the number of epochs increases, \n",
    "#more number of times the weight are changed in the neural network \n",
    "#and the curve goes from underfitting to optimal to overfitting curve.\n"
   ]
  },
  {
   "cell_type": "code",
   "execution_count": 19,
   "metadata": {
    "id": "qTOmRtZ53juZ"
   },
   "outputs": [],
   "source": [
    "#5. NEURAL NETWORK ARCHITECTURE-------------------------\n",
    "# CONV2D, RELU, MAXPOOLING2D, DROPOUT, FLATTEN, DENSE"
   ]
  },
  {
   "cell_type": "code",
   "execution_count": 20,
   "metadata": {
    "id": "OwuI0AQx3jua"
   },
   "outputs": [],
   "source": [
    "#with dropout\n",
    "\n",
    "plate_model = Sequential()\n",
    "\n",
    "#first convolution layer 32-3x3 filter ------------------------\n",
    "plate_model.add(Conv2D(32, kernel_size=(3, 3),activation='linear',padding='same',input_shape=(28,28,1)))\n",
    "plate_model.add(LeakyReLU(alpha=0.1))\n",
    "#max pooling 2x2\n",
    "plate_model.add(MaxPooling2D((2, 2),padding='same'))\n",
    "#adding dropout for overfitting\n",
    "plate_model.add(Dropout(0.25))\n",
    "\n",
    "#second convolution layer 64-3x3 filter ---------------------- \n",
    "plate_model.add(Conv2D(64, (3, 3), activation='linear',padding='same'))\n",
    "plate_model.add(LeakyReLU(alpha=0.1))\n",
    "plate_model.add(MaxPooling2D(pool_size=(2, 2),padding='same'))\n",
    "plate_model.add(Dropout(0.25))\n",
    "\n",
    "#second convolution layer 128-3x3 filter ---------------------- \n",
    "plate_model.add(Conv2D(128, (3, 3), activation='linear',padding='same'))\n",
    "plate_model.add(LeakyReLU(alpha=0.1))                  \n",
    "plate_model.add(MaxPooling2D(pool_size=(2, 2),padding='same'))\n",
    "plate_model.add(Dropout(0.4))\n",
    "#adding flatten layer\n",
    "plate_model.add(Flatten())\n",
    "plate_model.add(LeakyReLU(alpha=0.1))           \n",
    "plate_model.add(Dropout(0.3))\n",
    "#adding dense layer\n",
    "plate_model.add(Dense(36, activation='softmax'))\n",
    "\n",
    "\n",
    "#total of 16 added layers"
   ]
  },
  {
   "cell_type": "code",
   "execution_count": 21,
   "metadata": {
    "id": "5g_fS14h3jub"
   },
   "outputs": [],
   "source": [
    "#output layer \n",
    "plate_model.compile(loss = keras.losses.categorical_crossentropy, \n",
    "                    optimizer = keras.optimizers.Adam(), #compile the model using adam optimizer\n",
    "                    metrics = ['accuracy'])"
   ]
  },
  {
   "cell_type": "code",
   "execution_count": 22,
   "metadata": {
    "id": "lqfmM-6q3jub",
    "scrolled": true
   },
   "outputs": [
    {
     "name": "stdout",
     "output_type": "stream",
     "text": [
      "Model: \"sequential\"\n",
      "_________________________________________________________________\n",
      "Layer (type)                 Output Shape              Param #   \n",
      "=================================================================\n",
      "conv2d (Conv2D)              (None, 28, 28, 32)        320       \n",
      "_________________________________________________________________\n",
      "leaky_re_lu (LeakyReLU)      (None, 28, 28, 32)        0         \n",
      "_________________________________________________________________\n",
      "max_pooling2d (MaxPooling2D) (None, 14, 14, 32)        0         \n",
      "_________________________________________________________________\n",
      "dropout (Dropout)            (None, 14, 14, 32)        0         \n",
      "_________________________________________________________________\n",
      "conv2d_1 (Conv2D)            (None, 14, 14, 64)        18496     \n",
      "_________________________________________________________________\n",
      "leaky_re_lu_1 (LeakyReLU)    (None, 14, 14, 64)        0         \n",
      "_________________________________________________________________\n",
      "max_pooling2d_1 (MaxPooling2 (None, 7, 7, 64)          0         \n",
      "_________________________________________________________________\n",
      "dropout_1 (Dropout)          (None, 7, 7, 64)          0         \n",
      "_________________________________________________________________\n",
      "conv2d_2 (Conv2D)            (None, 7, 7, 128)         73856     \n",
      "_________________________________________________________________\n",
      "leaky_re_lu_2 (LeakyReLU)    (None, 7, 7, 128)         0         \n",
      "_________________________________________________________________\n",
      "max_pooling2d_2 (MaxPooling2 (None, 4, 4, 128)         0         \n",
      "_________________________________________________________________\n",
      "dropout_2 (Dropout)          (None, 4, 4, 128)         0         \n",
      "_________________________________________________________________\n",
      "flatten (Flatten)            (None, 2048)              0         \n",
      "_________________________________________________________________\n",
      "leaky_re_lu_3 (LeakyReLU)    (None, 2048)              0         \n",
      "_________________________________________________________________\n",
      "dropout_3 (Dropout)          (None, 2048)              0         \n",
      "_________________________________________________________________\n",
      "dense (Dense)                (None, 36)                73764     \n",
      "=================================================================\n",
      "Total params: 166,436\n",
      "Trainable params: 166,436\n",
      "Non-trainable params: 0\n",
      "_________________________________________________________________\n"
     ]
    }
   ],
   "source": [
    "#VISUALIZE THE LAYERS\n",
    "plate_model.summary()"
   ]
  },
  {
   "cell_type": "code",
   "execution_count": 23,
   "metadata": {
    "id": "XVTwDTwA3juc"
   },
   "outputs": [],
   "source": [
    "#7.TRAIN THE MODEL ------------------------------"
   ]
  },
  {
   "cell_type": "code",
   "execution_count": 24,
   "metadata": {
    "id": "HPMa0kyI3jud"
   },
   "outputs": [
    {
     "name": "stdout",
     "output_type": "stream",
     "text": [
      "Epoch 1/50\n",
      "4/4 [==============================] - 1s 169ms/step - loss: 3.5052 - accuracy: 0.0450 - val_loss: 3.4246 - val_accuracy: 0.0675\n",
      "Epoch 2/50\n",
      "4/4 [==============================] - 0s 125ms/step - loss: 3.2943 - accuracy: 0.0676 - val_loss: 3.3136 - val_accuracy: 0.0529\n",
      "Epoch 3/50\n",
      "4/4 [==============================] - 0s 119ms/step - loss: 3.2967 - accuracy: 0.0856 - val_loss: 3.3041 - val_accuracy: 0.0787\n",
      "Epoch 4/50\n",
      "4/4 [==============================] - 0s 115ms/step - loss: 3.2323 - accuracy: 0.0766 - val_loss: 3.3451 - val_accuracy: 0.0686\n",
      "Epoch 5/50\n",
      "4/4 [==============================] - 0s 112ms/step - loss: 3.2327 - accuracy: 0.0991 - val_loss: 3.3495 - val_accuracy: 0.0911\n",
      "Epoch 6/50\n",
      "4/4 [==============================] - 0s 111ms/step - loss: 3.2236 - accuracy: 0.0901 - val_loss: 3.3188 - val_accuracy: 0.0810\n",
      "Epoch 7/50\n",
      "4/4 [==============================] - 0s 112ms/step - loss: 3.1993 - accuracy: 0.1216 - val_loss: 3.3024 - val_accuracy: 0.0675\n",
      "Epoch 8/50\n",
      "4/4 [==============================] - 0s 113ms/step - loss: 3.1825 - accuracy: 0.1126 - val_loss: 3.2926 - val_accuracy: 0.0529\n",
      "Epoch 9/50\n",
      "4/4 [==============================] - 0s 110ms/step - loss: 3.1808 - accuracy: 0.0991 - val_loss: 3.2798 - val_accuracy: 0.0821\n",
      "Epoch 10/50\n",
      "4/4 [==============================] - 0s 113ms/step - loss: 3.1384 - accuracy: 0.1396 - val_loss: 3.2548 - val_accuracy: 0.1597\n",
      "Epoch 11/50\n",
      "4/4 [==============================] - 0s 109ms/step - loss: 3.1315 - accuracy: 0.1351 - val_loss: 3.2309 - val_accuracy: 0.2655\n",
      "Epoch 12/50\n",
      "4/4 [==============================] - 0s 110ms/step - loss: 3.0912 - accuracy: 0.1532 - val_loss: 3.1779 - val_accuracy: 0.2981\n",
      "Epoch 13/50\n",
      "4/4 [==============================] - 0s 111ms/step - loss: 3.0313 - accuracy: 0.2072 - val_loss: 3.1069 - val_accuracy: 0.2812\n",
      "Epoch 14/50\n",
      "4/4 [==============================] - 0s 111ms/step - loss: 2.9330 - accuracy: 0.2568 - val_loss: 3.0035 - val_accuracy: 0.3633\n",
      "Epoch 15/50\n",
      "4/4 [==============================] - 0s 113ms/step - loss: 2.8566 - accuracy: 0.2838 - val_loss: 2.8852 - val_accuracy: 0.4016\n",
      "Epoch 16/50\n",
      "4/4 [==============================] - 0s 118ms/step - loss: 2.7037 - accuracy: 0.3423 - val_loss: 2.7438 - val_accuracy: 0.4589\n",
      "Epoch 17/50\n",
      "4/4 [==============================] - 0s 116ms/step - loss: 2.5022 - accuracy: 0.3964 - val_loss: 2.5347 - val_accuracy: 0.4781\n",
      "Epoch 18/50\n",
      "4/4 [==============================] - 0s 128ms/step - loss: 2.2336 - accuracy: 0.4730 - val_loss: 2.2737 - val_accuracy: 0.5152\n",
      "Epoch 19/50\n",
      "4/4 [==============================] - 0s 126ms/step - loss: 2.0049 - accuracy: 0.5360 - val_loss: 2.0199 - val_accuracy: 0.5973\n",
      "Epoch 20/50\n",
      "4/4 [==============================] - 0s 127ms/step - loss: 1.6950 - accuracy: 0.6216 - val_loss: 1.7752 - val_accuracy: 0.6524\n",
      "Epoch 21/50\n",
      "4/4 [==============================] - 0s 130ms/step - loss: 1.4413 - accuracy: 0.6712 - val_loss: 1.5805 - val_accuracy: 0.6850\n",
      "Epoch 22/50\n",
      "4/4 [==============================] - 0s 132ms/step - loss: 1.2104 - accuracy: 0.6667 - val_loss: 1.4503 - val_accuracy: 0.6817\n",
      "Epoch 23/50\n",
      "4/4 [==============================] - 0s 120ms/step - loss: 0.9637 - accuracy: 0.7027 - val_loss: 1.2736 - val_accuracy: 0.7030\n",
      "Epoch 24/50\n",
      "4/4 [==============================] - 0s 133ms/step - loss: 0.8876 - accuracy: 0.7432 - val_loss: 1.1809 - val_accuracy: 0.7278\n",
      "Epoch 25/50\n",
      "4/4 [==============================] - 0s 112ms/step - loss: 0.7022 - accuracy: 0.8243 - val_loss: 1.1545 - val_accuracy: 0.7278\n",
      "Epoch 26/50\n",
      "4/4 [==============================] - 0s 116ms/step - loss: 0.7319 - accuracy: 0.7568 - val_loss: 1.0666 - val_accuracy: 0.7447\n",
      "Epoch 27/50\n",
      "4/4 [==============================] - 0s 116ms/step - loss: 0.6470 - accuracy: 0.7838 - val_loss: 1.0615 - val_accuracy: 0.7604\n",
      "Epoch 28/50\n",
      "4/4 [==============================] - 0s 120ms/step - loss: 0.5218 - accuracy: 0.8468 - val_loss: 1.1425 - val_accuracy: 0.7492\n",
      "Epoch 29/50\n",
      "4/4 [==============================] - 0s 112ms/step - loss: 0.5258 - accuracy: 0.8198 - val_loss: 1.0178 - val_accuracy: 0.7717\n",
      "Epoch 30/50\n",
      "4/4 [==============================] - 0s 111ms/step - loss: 0.4779 - accuracy: 0.8604 - val_loss: 0.9139 - val_accuracy: 0.7885\n",
      "Epoch 31/50\n",
      "4/4 [==============================] - 0s 113ms/step - loss: 0.4212 - accuracy: 0.8333 - val_loss: 0.9495 - val_accuracy: 0.7942\n",
      "Epoch 32/50\n",
      "4/4 [==============================] - 0s 125ms/step - loss: 0.3894 - accuracy: 0.8829 - val_loss: 0.9641 - val_accuracy: 0.7953\n",
      "Epoch 33/50\n",
      "4/4 [==============================] - 0s 118ms/step - loss: 0.3494 - accuracy: 0.8919 - val_loss: 0.9338 - val_accuracy: 0.7885\n",
      "Epoch 34/50\n",
      "4/4 [==============================] - 0s 118ms/step - loss: 0.3667 - accuracy: 0.8964 - val_loss: 0.9394 - val_accuracy: 0.7953\n",
      "Epoch 35/50\n",
      "4/4 [==============================] - 0s 111ms/step - loss: 0.2320 - accuracy: 0.9414 - val_loss: 0.9033 - val_accuracy: 0.8009\n",
      "Epoch 36/50\n",
      "4/4 [==============================] - 0s 113ms/step - loss: 0.2504 - accuracy: 0.9234 - val_loss: 0.9026 - val_accuracy: 0.7964\n",
      "Epoch 37/50\n",
      "4/4 [==============================] - 0s 111ms/step - loss: 0.2548 - accuracy: 0.9144 - val_loss: 0.9176 - val_accuracy: 0.7987\n",
      "Epoch 38/50\n",
      "4/4 [==============================] - 0s 123ms/step - loss: 0.2357 - accuracy: 0.9234 - val_loss: 0.9013 - val_accuracy: 0.8043\n",
      "Epoch 39/50\n",
      "4/4 [==============================] - 0s 121ms/step - loss: 0.1951 - accuracy: 0.9324 - val_loss: 0.8641 - val_accuracy: 0.8166\n",
      "Epoch 40/50\n",
      "4/4 [==============================] - 0s 122ms/step - loss: 0.2446 - accuracy: 0.9414 - val_loss: 0.9077 - val_accuracy: 0.8110\n",
      "Epoch 41/50\n",
      "4/4 [==============================] - 0s 114ms/step - loss: 0.2361 - accuracy: 0.9414 - val_loss: 0.9432 - val_accuracy: 0.8166\n",
      "Epoch 42/50\n",
      "4/4 [==============================] - 0s 126ms/step - loss: 0.1506 - accuracy: 0.9685 - val_loss: 0.9235 - val_accuracy: 0.8166\n",
      "Epoch 43/50\n",
      "4/4 [==============================] - 0s 121ms/step - loss: 0.1983 - accuracy: 0.9459 - val_loss: 0.8810 - val_accuracy: 0.8099\n",
      "Epoch 44/50\n",
      "4/4 [==============================] - 0s 114ms/step - loss: 0.1495 - accuracy: 0.9550 - val_loss: 0.8775 - val_accuracy: 0.8065\n",
      "Epoch 45/50\n",
      "4/4 [==============================] - 0s 114ms/step - loss: 0.1793 - accuracy: 0.9324 - val_loss: 0.8623 - val_accuracy: 0.8178\n",
      "Epoch 46/50\n",
      "4/4 [==============================] - 0s 114ms/step - loss: 0.1447 - accuracy: 0.9369 - val_loss: 0.9390 - val_accuracy: 0.8110\n",
      "Epoch 47/50\n",
      "4/4 [==============================] - 0s 126ms/step - loss: 0.1709 - accuracy: 0.9505 - val_loss: 0.9241 - val_accuracy: 0.8133\n",
      "Epoch 48/50\n",
      "4/4 [==============================] - 0s 127ms/step - loss: 0.1469 - accuracy: 0.9459 - val_loss: 0.8834 - val_accuracy: 0.8223\n",
      "Epoch 49/50\n",
      "4/4 [==============================] - 0s 116ms/step - loss: 0.1353 - accuracy: 0.9595 - val_loss: 0.8998 - val_accuracy: 0.8279\n",
      "Epoch 50/50\n",
      "4/4 [==============================] - 0s 124ms/step - loss: 0.1560 - accuracy: 0.9459 - val_loss: 0.9428 - val_accuracy: 0.8301\n"
     ]
    }
   ],
   "source": [
    "plate_train = plate_model.fit(train_x, train_label, \n",
    "                                  batch_size=batch_size,\n",
    "                                  epochs=epochs,\n",
    "                                  verbose=1,\n",
    "                                  validation_data=(valid_x, valid_label))\n",
    "\n",
    "#shows 50 epochs for training"
   ]
  },
  {
   "cell_type": "code",
   "execution_count": 27,
   "metadata": {
    "id": "nekJaizb3jud"
   },
   "outputs": [
    {
     "name": "stdout",
     "output_type": "stream",
     "text": [
      "INFO:tensorflow:Assets written to: car_dropout.h5py\\assets\n"
     ]
    }
   ],
   "source": [
    "# save the model\n",
    "plate_model.save(\"car_dropout.h5py\") #sample"
   ]
  },
  {
   "cell_type": "code",
   "execution_count": 28,
   "metadata": {
    "id": "X_oLzo6x3jue"
   },
   "outputs": [],
   "source": [
    "#8. MODEL EVALUATION -------------------------"
   ]
  },
  {
   "cell_type": "code",
   "execution_count": 29,
   "metadata": {
    "id": "r824VEbo3jue"
   },
   "outputs": [
    {
     "name": "stdout",
     "output_type": "stream",
     "text": [
      "22/22 [==============================] - 0s 8ms/step - loss: 0.4953 - accuracy: 0.9034\n",
      "Test loss: 0.4952746629714966\n",
      "Test accuracy: 0.9034175276756287\n"
     ]
    }
   ],
   "source": [
    "test_eval = plate_model.evaluate(test_x, test_y_one_hot, verbose=1)\n",
    "#shows the test loss and accuracy \n",
    "print('Test loss:', test_eval[0])\n",
    "print('Test accuracy:', test_eval[1])"
   ]
  },
  {
   "cell_type": "code",
   "execution_count": 30,
   "metadata": {
    "id": "XLhLu8u33jue"
   },
   "outputs": [
    {
     "data": {
      "image/png": "[encoded data removed]",
      "text/plain": [
       "<Figure size 432x288 with 1 Axes>"
      ]
     },
     "metadata": {
      "needs_background": "light"
     },
     "output_type": "display_data"
    },
    {
     "data": {
      "image/png": "[encoded data removed]",
      "text/plain": [
       "<Figure size 432x288 with 1 Axes>"
      ]
     },
     "metadata": {
      "needs_background": "light"
     },
     "output_type": "display_data"
    }
   ],
   "source": [
    "# plot the accuracy and loss points\n",
    "#shows graph of training and validation accuracy \n",
    "#shows graph of training and validation loss\n",
    "\n",
    "accuracy = plate_train.history['accuracy']\n",
    "val_accuracy = plate_train.history['val_accuracy']\n",
    "loss = plate_train.history['loss']\n",
    "val_loss = plate_train.history['val_loss']\n",
    "\n",
    "epochs = range(len(accuracy))\n",
    "plt.plot(epochs, accuracy, 'bo', label='Training accuracy')\n",
    "plt.plot(epochs, val_accuracy, 'b', label='Validation accuracy')\n",
    "\n",
    "plt.title('Training and validation accuracy')\n",
    "plt.legend()\n",
    "plt.figure()\n",
    "plt.plot(epochs, loss, 'bo', label='Training loss')\n",
    "plt.plot(epochs, val_loss, 'b', label='Validation loss')\n",
    "plt.title('Training and validation loss')\n",
    "plt.legend()\n",
    "plt.show()\n",
    "\n",
    "\n",
    "#result: validation loss and validation accuracy both are in sync with the training loss and training accuracy. \n",
    "# Even though the validation loss and accuracy line are not linear, \n",
    "#but it shows that your model is not overfitting: the validation loss is decreasing and \n",
    "#not increasing, and there is not much gap between training and validation accuracy.\n"
   ]
  },
  {
   "cell_type": "code",
   "execution_count": 31,
   "metadata": {
    "id": "YrInEGne3juf"
   },
   "outputs": [],
   "source": [
    "#9. PREDICT MODELS -----------------"
   ]
  },
  {
   "cell_type": "code",
   "execution_count": 32,
   "metadata": {
    "id": "ZoLAuskm3juf"
   },
   "outputs": [],
   "source": [
    "predicted_classes = plate_model.predict(test_x)"
   ]
  },
  {
   "cell_type": "code",
   "execution_count": 33,
   "metadata": {
    "id": "jwteCA1p3juf"
   },
   "outputs": [],
   "source": [
    "predicted_classes = np.argmax(np.round(predicted_classes),axis=1)"
   ]
  },
  {
   "cell_type": "code",
   "execution_count": 34,
   "metadata": {
    "id": "5cVZPucs3juf"
   },
   "outputs": [
    {
     "data": {
      "text/plain": [
       "((673,), (673,))"
      ]
     },
     "execution_count": 34,
     "metadata": {},
     "output_type": "execute_result"
    }
   ],
   "source": [
    "predicted_classes.shape, test_y.shape"
   ]
  },
  {
   "cell_type": "code",
   "execution_count": 39,
   "metadata": {
    "id": "XRyWpAdX3jug",
    "scrolled": true
   },
   "outputs": [
    {
     "name": "stdout",
     "output_type": "stream",
     "text": [
      "Found correct labels\n"
     ]
    },
    {
     "data": {
      "image/png": "[encoded data removed]",
      "text/plain": [
       "<Figure size 432x288 with 9 Axes>"
      ]
     },
     "metadata": {
      "needs_background": "light"
     },
     "output_type": "display_data"
    }
   ],
   "source": [
    "# FOUND CORRECT LABELS\n",
    "correct = np.where(predicted_classes==test_y)[0]\n",
    "print(\"Found correct labels\")\n",
    "for i, correct in enumerate(correct[:9]):\n",
    "    plt.subplot(3,3,i+1)\n",
    "    plt.imshow(test_x[correct].reshape(28,28), cmap='gray', interpolation='none')\n",
    "    plt.title(\"Predicted {}, Class {}\".format(predicted_classes[correct], test_y[correct]))\n",
    "    plt.tight_layout()"
   ]
  },
  {
   "cell_type": "code",
   "execution_count": 40,
   "metadata": {
    "id": "B3UAh17U3jug"
   },
   "outputs": [
    {
     "name": "stdout",
     "output_type": "stream",
     "text": [
      "Found incorrect labels\n"
     ]
    },
    {
     "data": {
      "image/png": "[encoded data removed]",
      "text/plain": [
       "<Figure size 432x288 with 9 Axes>"
      ]
     },
     "metadata": {
      "needs_background": "light"
     },
     "output_type": "display_data"
    }
   ],
   "source": [
    "#FOUND INCORRECT LABELS\n",
    "\n",
    "incorrect = np.where(predicted_classes!=test_y)[0]\n",
    "print(\"Found incorrect labels\")\n",
    "for i, incorrect in enumerate(incorrect[:9]):\n",
    "    plt.subplot(3,3,i+1)\n",
    "    plt.imshow(test_x[incorrect].reshape(28,28), cmap='gray', interpolation='none')\n",
    "    plt.title(\"Predicted {}, Class {}\".format(predicted_classes[incorrect], test_y[incorrect]))\n",
    "    plt.tight_layout()\n",
    "    \n",
    "#RESULTS: make sense because training accuracy is only about 89% "
   ]
  },
  {
   "cell_type": "code",
   "execution_count": 41,
   "metadata": {
    "id": "swRbG6dY3jug"
   },
   "outputs": [],
   "source": [
    "#10. CLASSIFICATION REPORT -----------------------\n",
    "#for identifying the misclassified classes in more detail."
   ]
  },
  {
   "cell_type": "code",
   "execution_count": 42,
   "metadata": {
    "id": "CCXxp6Bn3juh",
    "scrolled": false
   },
   "outputs": [
    {
     "name": "stdout",
     "output_type": "stream",
     "text": [
      "              precision    recall  f1-score   support\n",
      "\n",
      "     Class 0       0.43      0.90      0.58        29\n",
      "     Class 1       0.93      0.93      0.93        41\n",
      "     Class 2       1.00      0.93      0.96        44\n",
      "     Class 3       0.92      1.00      0.96        36\n",
      "     Class 4       1.00      0.95      0.97        37\n",
      "     Class 5       0.93      1.00      0.96        27\n",
      "     Class 6       1.00      0.90      0.95        48\n",
      "     Class 7       0.97      0.93      0.95        40\n",
      "     Class 8       0.95      0.89      0.92        44\n",
      "     Class 9       1.00      0.92      0.96        37\n",
      "    Class 10       1.00      0.98      0.99        45\n",
      "    Class 11       0.79      0.88      0.83        25\n",
      "    Class 12       1.00      1.00      1.00        19\n",
      "    Class 13       0.95      0.95      0.95        21\n",
      "    Class 14       0.93      0.93      0.93        14\n",
      "    Class 15       0.93      0.93      0.93        15\n",
      "    Class 16       1.00      0.25      0.40         8\n",
      "    Class 17       1.00      0.29      0.44         7\n",
      "    Class 18       0.75      0.50      0.60         6\n",
      "    Class 19       1.00      0.20      0.33         5\n",
      "    Class 20       1.00      1.00      1.00         9\n",
      "    Class 21       1.00      0.60      0.75         5\n",
      "    Class 22       0.67      1.00      0.80         4\n",
      "    Class 23       0.88      1.00      0.94        51\n",
      "    Class 24       0.58      0.78      0.67         9\n",
      "    Class 25       1.00      0.50      0.67         6\n",
      "    Class 26       1.00      0.60      0.75         5\n",
      "    Class 27       0.00      0.00      0.00         1\n",
      "    Class 28       1.00      0.50      0.67         4\n",
      "    Class 29       0.71      1.00      0.83         5\n",
      "    Class 30       0.00      0.00      0.00         5\n",
      "    Class 31       1.00      0.43      0.60         7\n",
      "    Class 32       1.00      0.40      0.57         5\n",
      "    Class 33       1.00      0.50      0.67         2\n",
      "    Class 34       0.60      1.00      0.75         3\n",
      "    Class 35       0.57      1.00      0.73         4\n",
      "\n",
      "    accuracy                           0.89       673\n",
      "   macro avg       0.85      0.74      0.75       673\n",
      "weighted avg       0.91      0.89      0.88       673\n",
      "\n"
     ]
    },
    {
     "name": "stderr",
     "output_type": "stream",
     "text": [
      "C:\\Users\\yelti\\anaconda3\\envs\\anpr\\lib\\site-packages\\sklearn\\metrics\\_classification.py:1248: UndefinedMetricWarning: Precision and F-score are ill-defined and being set to 0.0 in labels with no predicted samples. Use `zero_division` parameter to control this behavior.\n",
      "  _warn_prf(average, modifier, msg_start, len(result))\n",
      "C:\\Users\\yelti\\anaconda3\\envs\\anpr\\lib\\site-packages\\sklearn\\metrics\\_classification.py:1248: UndefinedMetricWarning: Precision and F-score are ill-defined and being set to 0.0 in labels with no predicted samples. Use `zero_division` parameter to control this behavior.\n",
      "  _warn_prf(average, modifier, msg_start, len(result))\n",
      "C:\\Users\\yelti\\anaconda3\\envs\\anpr\\lib\\site-packages\\sklearn\\metrics\\_classification.py:1248: UndefinedMetricWarning: Precision and F-score are ill-defined and being set to 0.0 in labels with no predicted samples. Use `zero_division` parameter to control this behavior.\n",
      "  _warn_prf(average, modifier, msg_start, len(result))\n"
     ]
    }
   ],
   "source": [
    "from sklearn.metrics import classification_report\n",
    "target_names = [\"Class {}\".format(i) for i in range(num_classes)]\n",
    "print(classification_report(test_y, predicted_classes, target_names=target_names))"
   ]
  },
  {
   "cell_type": "code",
   "execution_count": null,
   "metadata": {},
   "outputs": [],
   "source": []
  }
 ],
 "metadata": {
  "colab": {
   "provenance": []
  },
  "kernelspec": {
   "display_name": "Python 3",
   "language": "python",
   "name": "python3"
  },
  "language_info": {
   "codemirror_mode": {
    "name": "ipython",
    "version": 3
   },
   "file_extension": ".py",
   "mimetype": "text/x-python",
   "name": "python",
   "nbconvert_exporter": "python",
   "pygments_lexer": "ipython3",
   "version": "3.6.7"
  },
  "vscode": {
   "interpreter": {
    "hash": "5cddcde71aa4ce3ba390af3e241d1372a51719efe31a6ef089a82452c24550d6"
   }
  }
 },
 "nbformat": 4,
 "nbformat_minor": 1
}
